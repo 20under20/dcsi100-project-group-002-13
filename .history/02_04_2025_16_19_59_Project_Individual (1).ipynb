{
 "cells": [
  {
   "cell_type": "code",
   "execution_count": null,
   "id": "c757f6ed-bf2c-4d78-b27f-ff0947ad3f09",
   "metadata": {},
   "outputs": [],
   "source": [
    "library(tidyverse)\n",
    "library(repr)\n",
    "library(tidymodels)\n",
    "library(GGally)\n",
    "library(ISLR)\n",
    "options(repr.matrix.max.rows = 6)"
   ]
  },
  {
   "cell_type": "markdown",
   "id": "6dd327d8-1877-4451-a2b1-39822bad97dd",
   "metadata": {},
   "source": [
    "# Introduction\n",
    "\n",
    "* hook :\n",
    "* research problem :\n",
    "* research question :\n",
    "* thesis :\n",
    "* overview : \n",
    "\n",
    "The broad question that I will address is \"Question 1: What player characteristics and behaviors are most predictive of subscribing to a game-related newsletter, and how do these features differ between various player types?\". To make it more specific, I made the question \"Can the player’s age and total hours played predict their likelihood of subscribing to the game-related newsletter?\". \n",
    "\n",
    "The subscribe column will still be the target variable (whether a player subscribed to the newsletter), but we are focusing on the predictors of experience and age as explanatory variables. The age variable will be treated as a continuous feature, and experience will be analyzed categorically. Since the goal is to predict subscription likelihood based on these two factors, I would use K-Nearest Neighbors for this task. I'd use the KNN method since it can handle non-linear patterns as well as the experience categories (non-numeric), showing how age and experience influence the likelihood of subscription."
   ]
  },
  {
   "cell_type": "markdown",
   "id": "c3083d5a-6d57-40f4-8fbc-6aaaadae630a",
   "metadata": {},
   "source": [
    "# Data Description\n",
    "\n",
    "First, upon seeing the 2 available datasets, there is a `players.csv` file that includes data about individual players, such as name, experience, playtime, subscription status, gender, age, and hashed email. The total amount of observations is 197, and number of variables is 7. The `age` variable is numerical, and we can calculate the mean and standard deviation to better understand player demographics. The `subscription_status` variable is a boolean (true or false), which could be important to our analysis of predicting newsletter subscriptions. The player experience variable is categorical, representing player classifications which we need. Some potential issues with this data include missing values in certain columns, such as the age category in `players.csv`. There are 2 observations with `N/A` in that column.\n",
    "\n",
    "The `sessions.csv` file records individual play sessions, with start and end times variables. There is a hashed email variable, start time and end time, as well as the original start and end time. There are five variables total. The dataset mainly contains observations on the time players put into the game. The start and end times are in a date format, which is not numerical, while the original start and end times are numerical which measures how long a player was engaged in a session  which reflects the demand on the server during gameplay. However, these values are extremely big and very hard to read, so we would need to standardize the data."
   ]
  },
  {
   "cell_type": "markdown",
   "id": "d3d423b9-e7f9-4369-9a65-0619179df4de",
   "metadata": {},
   "source": [
    "# Exploratory Analysis and Visualization "
   ]
  },
  {
   "cell_type": "code",
   "execution_count": null,
   "id": "0d4ef7e3-56cb-4d94-9079-42438e96a8e8",
   "metadata": {},
   "outputs": [],
   "source": [
    "data <- read_csv(\"https://raw.githubusercontent.com/brittany-tsui/csv-files/refs/heads/main/players.csv\")\n",
    "\n",
    "data_mean <- data |>\n",
    "  select(played_hours, Age) |>\n",
    "  summarize(played_hours = mean(played_hours, na.rm = TRUE),\n",
    "    Age = mean(Age, na.rm = TRUE))\n",
    "data_mean\n",
    "\n",
    "data_bar <- ggplot(data, aes(x = Age, y = played_hours)) + \n",
    "geom_bar(stat = \"identity\") +\n",
    "xlab(\"Age (Years)\") +\n",
    "ylab(\"Played Hours (Hours)\") + \n",
    "ggtitle(\"Age vs. Played Hours\")\n",
    "\n",
    "data_bar"
   ]
  },
  {
   "cell_type": "markdown",
   "id": "40c2f517-b42d-419f-ad01-b6d37fce5853",
   "metadata": {},
   "source": [
    "From these plots we can see that the gamers who are 17 played the most hours, hinting that the chance of subscribing to the newsletter could be related to this age and the hours played. However, we would need to factor in whether they are subscribed or not, and separate the sections into telling whether they are or not. This visualization just demonstrates the age and the hours played."
   ]
  },
  {
   "cell_type": "markdown",
   "id": "051cd25f-2155-42fa-9406-9a9c70934c69",
   "metadata": {},
   "source": [
    "Methods (4)\n",
    "\n",
    "I would suggest using the K-Nearest Neighbors (KNN) algorithm. \n",
    "- KNN is suitable here because it doesn't need a linear representation for the relationship between predictors (played hours and age) and outcome (subscription), thus apt to identify potential non-linear relationships.\n",
    "- KNN selects the 'k' closest data points within the feature space and classifies based upon the majority class of the neighbors. The reason for this flexibility is that the interaction between age, played hours, and subscription may not be linear.\n",
    "- The method uses the premise that the distance between points can be used to make predictions and that features must be scaled to have a meaningful distance metric.\n",
    "One drawback of KNN is its computational cost, especially for large datasets because it must calculate distances from test data to all training points.\n",
    "\n",
    "To compare and select the best model, I will compare its performance using cross-validation. For pre-processing the data, do na.rm = TRUE for the missing values, standardize the data for age and playing hours, and then see if there is any variance in people's experiences if they are subscribed. The information will be split into a training set (70%) and a testing set (30%), and I'll also use k-fold cross-validation to achieve a better estimate. This should allow us to identify predictors that make the most contributions to subscription probability!"
   ]
  },
  {
   "cell_type": "code",
   "execution_count": null,
   "id": "7428a42d-b41c-4556-a670-e96e5dc4e796",
   "metadata": {},
   "outputs": [],
   "source": []
  }
 ],
 "metadata": {
  "kernelspec": {
   "display_name": "R",
   "language": "R",
   "name": "ir"
  },
  "language_info": {
   "codemirror_mode": "r",
   "file_extension": ".r",
   "mimetype": "text/x-r-source",
   "name": "R",
   "pygments_lexer": "r",
   "version": "4.3.3"
  }
 },
 "nbformat": 4,
 "nbformat_minor": 5
}
